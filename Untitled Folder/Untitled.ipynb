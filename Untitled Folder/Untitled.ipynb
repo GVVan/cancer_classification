{
 "cells": [
  {
   "cell_type": "code",
   "execution_count": 1,
   "metadata": {},
   "outputs": [],
   "source": [
    "import os"
   ]
  },
  {
   "cell_type": "code",
   "execution_count": 37,
   "metadata": {},
   "outputs": [],
   "source": [
    "# переименование файлов для нормальной работы модели\n",
    "# итоговое имя изображения - \"порядковый номер _ класс изображения _ тип выборки\"\n",
    "def file_rename(filepath):\n",
    "    fileways = '../data/' + filepath\n",
    "    class_filenames = os.listdir(fileways)\n",
    "    for i in class_filenames:\n",
    "        filenames = os.listdir(fileways +'/'+ i)\n",
    "        for l in range(len(filenames)):    \n",
    "            os.rename(fileways+'/'+str(i)+'/'+ filenames[l], fileways+'/'+str(i)+'/'+ str(l) + '_' + i + '_' + filepath +'.jpg')"
   ]
  },
  {
   "cell_type": "code",
   "execution_count": 38,
   "metadata": {},
   "outputs": [],
   "source": [
    "for i in ['train', 'test', 'valid']:\n",
    "    file_rename(i)"
   ]
  }
 ],
 "metadata": {
  "kernelspec": {
   "display_name": "Python 3",
   "language": "python",
   "name": "python3"
  },
  "language_info": {
   "codemirror_mode": {
    "name": "ipython",
    "version": 3
   },
   "file_extension": ".py",
   "mimetype": "text/x-python",
   "name": "python",
   "nbconvert_exporter": "python",
   "pygments_lexer": "ipython3",
   "version": "3.7.4"
  }
 },
 "nbformat": 4,
 "nbformat_minor": 2
}
