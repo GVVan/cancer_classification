{
 "cells": [
  {
   "cell_type": "code",
   "execution_count": 108,
   "metadata": {},
   "outputs": [],
   "source": [
    "import os\n",
    "import cv2\n",
    "import pandas as pd\n",
    "import numpy as np\n",
    "import matplotlib.pyplot as plt\n",
    "from sklearn import datasets, svm, metrics\n",
    "from sklearn.model_selection import train_test_split\n",
    "from sklearn.datasets import fetch_olivetti_faces\n",
    "from sklearn.svm import SVC\n",
    "from sklearn.metrics import accuracy_score\n",
    "from sklearn.model_selection import train_test_split\n",
    "import numpy as np\n",
    "from sklearn.model_selection import train_test_split\n",
    "from sklearn import datasets\n",
    "from sklearn import svm\n",
    "from joblib import dump, load"
   ]
  },
  {
   "cell_type": "code",
   "execution_count": 84,
   "metadata": {},
   "outputs": [],
   "source": [
    "alg_type = 'cancer_classification'\n",
    "data_type = ['train','test']\n",
    "for dt in data_type:\n",
    "    class_type = os.listdir('../data/'+alg_type+'/unsorted_data/' + dt)\n",
    "    for ct in class_type:\n",
    "        fileways = '../data/'+alg_type+'/unsorted_data/' + dt +'/' + ct\n",
    "        renamed_fileways = '../data/'+alg_type+'/renamed_data/' + dt +'/' + ct\n",
    "        class_filenames = os.listdir(fileways)\n",
    "        k = 0\n",
    "        for cl in class_filenames:\n",
    "            os.rename(fileways + '/' + cl, renamed_fileways + '/' + dt + '_' + ct + '_' + str(k) + '.'+ cl.split('.')[-1])\n",
    "            k += 1"
   ]
  },
  {
   "cell_type": "code",
   "execution_count": 87,
   "metadata": {},
   "outputs": [],
   "source": [
    "alg_type = 'cancer_classification'\n",
    "data_type = ['train','test']\n",
    "for dt in data_type:\n",
    "    class_type = os.listdir('../data/'+alg_type+'/renamed_data/' + dt)\n",
    "    for ct in class_type:\n",
    "        renamed_fileways = '../data/'+alg_type+'/renamed_data/' + dt +'/' + ct\n",
    "        resized_fileways = '../data/'+alg_type+'/resized_data/' + dt +'/' + ct\n",
    "        class_filenames = os.listdir(renamed_fileways)\n",
    "        k = 0\n",
    "        for cl in class_filenames:\n",
    "            img = cv2.imread(renamed_fileways+'/'+ cl, cv2.IMREAD_UNCHANGED)\n",
    "            width = 256\n",
    "            height = 256\n",
    "            dim = (width, height)\n",
    "            # resize image\n",
    "            resized = cv2.resize(img, dim, interpolation = cv2.INTER_AREA)\n",
    "            resized = resized/255\n",
    "            #print('Resized Dimensions : ',resized.shape)\n",
    "            cv2.imwrite(resized_fileways+'/'+ cl, resized) "
   ]
  },
  {
   "cell_type": "code",
   "execution_count": 90,
   "metadata": {},
   "outputs": [],
   "source": [
    "def get_data(alg_type, data_type):\n",
    "    X = []\n",
    "    Y = []\n",
    "    pathname = os.listdir('../data/'+alg_type+'/resized_data/'+data_type)\n",
    "    for filepath in pathname:    \n",
    "        fileways = '../data/'+alg_type+'/resized_data/'+data_type +'/'+ filepath\n",
    "        image_filenames = os.listdir(fileways)\n",
    "        for i in image_filenames:\n",
    "            img = cv2.imread(fileways + '/' + i, cv2.IMREAD_GRAYSCALE)\n",
    "            X.append(img)\n",
    "            Y.append(filepath)\n",
    "    X = np.array(X)\n",
    "    Y = np.array(Y)\n",
    "    X = X.reshape((len(Y),-1))\n",
    "    return X, Y"
   ]
  },
  {
   "cell_type": "code",
   "execution_count": 91,
   "metadata": {},
   "outputs": [],
   "source": [
    "X_train, Y_train = get_data('cancer_classification', 'train')\n",
    "X_test, Y_test = get_data('cancer_classification', 'test')"
   ]
  },
  {
   "cell_type": "code",
   "execution_count": 110,
   "metadata": {},
   "outputs": [
    {
     "data": {
      "text/plain": [
       "['../models/cc.joblib']"
      ]
     },
     "execution_count": 110,
     "metadata": {},
     "output_type": "execute_result"
    }
   ],
   "source": [
    "try:\n",
    "    del clf\n",
    "except:\n",
    "    None\n",
    "clf = svm.SVC(gamma=0.00001)\n",
    "clf.fit(X_train, Y_train)\n",
    "dump(clf, '../models/cc.joblib') "
   ]
  },
  {
   "cell_type": "code",
   "execution_count": 105,
   "metadata": {},
   "outputs": [
    {
     "name": "stdout",
     "output_type": "stream",
     "text": [
      "0.8166666666666667\n",
      "['2' '2' '2' '2' '2' '2' '2' '2' '2' '2' '2' '2' '2' '2' '2' '2' '2' '2'\n",
      " '2' '2' '4' '4' '4' '4' '4' '4' '4' '4' '4' '4' '4' '4' '4' '4' '4' '4'\n",
      " '4' '4' '4' '4' '6' '6' '6' '6' '6' '6' '6' '6' '6' '6' '6' '6' '6' '6'\n",
      " '6' '6' '6' '6' '6' '6']\n",
      "['2' '2' '2' '2' '6' '4' '2' '2' '2' '2' '2' '2' '2' '2' '2' '2' '2' '2'\n",
      " '2' '2' '4' '4' '4' '4' '4' '4' '4' '4' '2' '2' '2' '2' '4' '4' '4' '4'\n",
      " '4' '4' '4' '4' '2' '2' '2' '6' '6' '6' '6' '6' '6' '6' '6' '6' '2' '6'\n",
      " '6' '4' '6' '6' '6' '6']\n"
     ]
    }
   ],
   "source": [
    "Y_pred = clf.predict(X_train)\n",
    "print(np.mean(Y_pred == Y_train))\n",
    "print(Y_train)\n",
    "print(Y_pred)"
   ]
  },
  {
   "cell_type": "code",
   "execution_count": 106,
   "metadata": {},
   "outputs": [
    {
     "name": "stdout",
     "output_type": "stream",
     "text": [
      "0.76\n",
      "['2' '2' '2' '2' '2' '2' '2' '2' '2' '2' '2' '2' '2' '2' '2' '2' '4' '4'\n",
      " '4' '4' '4' '4' '4' '6' '6']\n",
      "['2' '2' '6' '4' '2' '2' '2' '2' '6' '2' '4' '2' '2' '2' '2' '4' '4' '4'\n",
      " '4' '4' '4' '4' '2' '6' '6']\n"
     ]
    }
   ],
   "source": [
    "Y_pred = clf.predict(X_test)\n",
    "print(np.mean(Y_pred == Y_test))\n",
    "print(Y_test)\n",
    "print(Y_pred)"
   ]
  },
  {
   "cell_type": "code",
   "execution_count": null,
   "metadata": {},
   "outputs": [],
   "source": []
  }
 ],
 "metadata": {
  "kernelspec": {
   "display_name": "Python 3",
   "language": "python",
   "name": "python3"
  },
  "language_info": {
   "codemirror_mode": {
    "name": "ipython",
    "version": 3
   },
   "file_extension": ".py",
   "mimetype": "text/x-python",
   "name": "python",
   "nbconvert_exporter": "python",
   "pygments_lexer": "ipython3",
   "version": "3.7.4"
  }
 },
 "nbformat": 4,
 "nbformat_minor": 2
}
