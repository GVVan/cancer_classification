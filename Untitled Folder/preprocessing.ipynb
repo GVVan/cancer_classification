{
 "cells": [
  {
   "cell_type": "code",
   "execution_count": 5,
   "metadata": {},
   "outputs": [],
   "source": [
    "import os\n",
    "import cv2"
   ]
  },
  {
   "cell_type": "code",
   "execution_count": 37,
   "metadata": {},
   "outputs": [],
   "source": [
    "# переименование файлов для нормальной работы модели\n",
    "# итоговое имя изображения - \"порядковый номер _ класс изображения _ тип выборки\"\n",
    "def file_rename(filepath):\n",
    "    fileways = '../data/data_/' + filepath\n",
    "    class_filenames = os.listdir(fileways)\n",
    "    for i in class_filenames:\n",
    "        filenames = os.listdir(fileways +'/'+ i)\n",
    "        for l in range(len(filenames)):    \n",
    "            os.rename(fileways+'/'+str(i)+'/'+ filenames[l], fileways+'/'+str(i)+'/'+ str(l) + '_' + i + '_' + filepath +'.jpg')"
   ]
  },
  {
   "cell_type": "code",
   "execution_count": 24,
   "metadata": {},
   "outputs": [
    {
     "ename": "NameError",
     "evalue": "name 'file_rename' is not defined",
     "output_type": "error",
     "traceback": [
      "\u001b[1;31m---------------------------------------------------------------------------\u001b[0m",
      "\u001b[1;31mNameError\u001b[0m                                 Traceback (most recent call last)",
      "\u001b[1;32m<ipython-input-24-4c6237f623b6>\u001b[0m in \u001b[0;36m<module>\u001b[1;34m\u001b[0m\n\u001b[0;32m      1\u001b[0m \u001b[1;32mfor\u001b[0m \u001b[0mi\u001b[0m \u001b[1;32min\u001b[0m \u001b[1;33m[\u001b[0m\u001b[1;34m'train'\u001b[0m\u001b[1;33m,\u001b[0m \u001b[1;34m'test'\u001b[0m\u001b[1;33m,\u001b[0m \u001b[1;34m'valid'\u001b[0m\u001b[1;33m]\u001b[0m\u001b[1;33m:\u001b[0m\u001b[1;33m\u001b[0m\u001b[1;33m\u001b[0m\u001b[0m\n\u001b[1;32m----> 2\u001b[1;33m     \u001b[0mfile_rename\u001b[0m\u001b[1;33m(\u001b[0m\u001b[0mi\u001b[0m\u001b[1;33m)\u001b[0m\u001b[1;33m\u001b[0m\u001b[1;33m\u001b[0m\u001b[0m\n\u001b[0m",
      "\u001b[1;31mNameError\u001b[0m: name 'file_rename' is not defined"
     ]
    }
   ],
   "source": [
    "for i in ['train', 'test', 'valid']:\n",
    "    file_rename(i)"
   ]
  },
  {
   "cell_type": "code",
   "execution_count": 28,
   "metadata": {},
   "outputs": [],
   "source": [
    "# изменение размера изображения \n",
    "def resize_image(filepath):\n",
    "    fileways = '../data/' + filepath\n",
    "    class_filenames = os.listdir(fileways)\n",
    "    resized_fileways = '../resized_data/' + filepath\n",
    "    for i in class_filenames:\n",
    "        filenames = os.listdir(fileways +'/'+ i)\n",
    "        for l in range(len(filenames)):    \n",
    "            img = cv2.imread(fileways+'/'+str(i)+'/'+ filenames[l], cv2.IMREAD_UNCHANGED)\n",
    "\n",
    "            #print('Original Dimensions : ',img.shape)\n",
    "\n",
    "            scale_percent = 10 # percent of original size\n",
    "            width = 256#int(img.shape[1] * scale_percent / 100)\n",
    "            height = 256#int(img.shape[0] * scale_percent / 100)\n",
    "            dim = (width, height)\n",
    "            # resize image\n",
    "            resized = cv2.resize(img, dim, interpolation = cv2.INTER_AREA)\n",
    "            print('Original Dimensions : ',resized.shape)\n",
    "            cv2.imwrite(resized_fileways+'/'+str(i)+'/'+ filenames[l], resized) "
   ]
  },
  {
   "cell_type": "code",
   "execution_count": 29,
   "metadata": {},
   "outputs": [
    {
     "name": "stdout",
     "output_type": "stream",
     "text": [
      "Original Dimensions :  (256, 256, 3)\n",
      "Original Dimensions :  (256, 256, 3)\n",
      "Original Dimensions :  (256, 256, 3)\n",
      "Original Dimensions :  (256, 256, 3)\n",
      "Original Dimensions :  (256, 256, 3)\n",
      "Original Dimensions :  (256, 256, 3)\n",
      "Original Dimensions :  (256, 256, 3)\n",
      "Original Dimensions :  (256, 256, 3)\n",
      "Original Dimensions :  (256, 256, 3)\n",
      "Original Dimensions :  (256, 256, 3)\n",
      "Original Dimensions :  (256, 256, 3)\n",
      "Original Dimensions :  (256, 256, 3)\n",
      "Original Dimensions :  (256, 256, 3)\n",
      "Original Dimensions :  (256, 256, 3)\n",
      "Original Dimensions :  (256, 256, 3)\n",
      "Original Dimensions :  (256, 256, 3)\n",
      "Original Dimensions :  (256, 256, 3)\n",
      "Original Dimensions :  (256, 256, 3)\n",
      "Original Dimensions :  (256, 256, 3)\n",
      "Original Dimensions :  (256, 256, 3)\n",
      "Original Dimensions :  (256, 256, 3)\n",
      "Original Dimensions :  (256, 256, 3)\n",
      "Original Dimensions :  (256, 256, 3)\n",
      "Original Dimensions :  (256, 256, 3)\n",
      "Original Dimensions :  (256, 256, 3)\n",
      "Original Dimensions :  (256, 256, 3)\n",
      "Original Dimensions :  (256, 256, 3)\n",
      "Original Dimensions :  (256, 256, 3)\n",
      "Original Dimensions :  (256, 256, 3)\n",
      "Original Dimensions :  (256, 256, 3)\n",
      "Original Dimensions :  (256, 256, 3)\n",
      "Original Dimensions :  (256, 256, 3)\n",
      "Original Dimensions :  (256, 256, 3)\n",
      "Original Dimensions :  (256, 256, 3)\n",
      "Original Dimensions :  (256, 256, 3)\n",
      "Original Dimensions :  (256, 256, 3)\n",
      "Original Dimensions :  (256, 256, 3)\n",
      "Original Dimensions :  (256, 256, 3)\n",
      "Original Dimensions :  (256, 256, 3)\n",
      "Original Dimensions :  (256, 256, 3)\n",
      "Original Dimensions :  (256, 256, 3)\n",
      "Original Dimensions :  (256, 256, 3)\n",
      "Original Dimensions :  (256, 256, 3)\n"
     ]
    }
   ],
   "source": [
    "for i in ['train', 'test', 'valid']:\n",
    "    resize_image(i)"
   ]
  },
  {
   "cell_type": "code",
   "execution_count": null,
   "metadata": {},
   "outputs": [],
   "source": []
  }
 ],
 "metadata": {
  "kernelspec": {
   "display_name": "Python 3",
   "language": "python",
   "name": "python3"
  },
  "language_info": {
   "codemirror_mode": {
    "name": "ipython",
    "version": 3
   },
   "file_extension": ".py",
   "mimetype": "text/x-python",
   "name": "python",
   "nbconvert_exporter": "python",
   "pygments_lexer": "ipython3",
   "version": "3.7.4"
  }
 },
 "nbformat": 4,
 "nbformat_minor": 2
}
