{
 "cells": [
  {
   "cell_type": "code",
   "execution_count": 139,
   "metadata": {},
   "outputs": [],
   "source": [
    "import os\n",
    "import cv2\n",
    "import pandas as pd\n",
    "import numpy as np\n",
    "import matplotlib.pyplot as plt\n",
    "from sklearn import datasets, svm, metrics\n",
    "from sklearn.model_selection import train_test_split\n",
    "from sklearn.datasets import fetch_olivetti_faces\n",
    "from sklearn.svm import SVC\n",
    "from sklearn.metrics import accuracy_score\n",
    "from sklearn.model_selection import train_test_split\n",
    "import numpy as np\n",
    "from sklearn.model_selection import train_test_split\n",
    "from sklearn import datasets\n",
    "from sklearn import svm\n",
    "from joblib import dump, load\n",
    "import matplotlib.pyplot as plt"
   ]
  },
  {
   "cell_type": "code",
   "execution_count": 140,
   "metadata": {},
   "outputs": [],
   "source": [
    "def predict_cancer(resized):\n",
    "    im = resized.reshape((1,-1))\n",
    "    temp_type = qc_clf.predict(im)[0]\n",
    "    if temp_type  == '2':\n",
    "        type_image = cc_clf.predict(im)[0]\n",
    "    else:\n",
    "        type_image = temp_type\n",
    "    return type_image"
   ]
  },
  {
   "cell_type": "code",
   "execution_count": 141,
   "metadata": {},
   "outputs": [],
   "source": [
    "qc_clf = load('models/qc.joblib') \n",
    "cc_clf = load('models/cc.joblib') "
   ]
  },
  {
   "cell_type": "code",
   "execution_count": 142,
   "metadata": {},
   "outputs": [],
   "source": [
    "result = pd.DataFrame(columns = ['filename','true', 'pred'])"
   ]
  },
  {
   "cell_type": "code",
   "execution_count": 143,
   "metadata": {},
   "outputs": [],
   "source": [
    "classes = os.listdir('data/test_data')\n",
    "for i in classes:\n",
    "    filenames = os.listdir('data/test_data/'+ i)\n",
    "    for file in filenames:\n",
    "        img = cv2.imread('data/test_data/'+ i + '/'+ file, cv2.IMREAD_GRAYSCALE)\n",
    "        width = 256\n",
    "        height = 256\n",
    "        dim = (width, height)\n",
    "        # resize image\n",
    "        resized = cv2.resize(img, dim, interpolation = cv2.INTER_AREA)\n",
    "        resized = resized/255 \n",
    "        temp_result = pd.DataFrame([list(['','',''])],columns = ['filename','true', 'pred'])\n",
    "        temp_result['filename'][0] = file\n",
    "        #print(file)\n",
    "        temp_result['true'][0] = i\n",
    "        #print(i)\n",
    "        temp_result['pred'][0] = predict_cancer(resized)\n",
    "        result = result.append(temp_result)\n",
    "        del temp_result"
   ]
  },
  {
   "cell_type": "code",
   "execution_count": 144,
   "metadata": {},
   "outputs": [
    {
     "data": {
      "text/plain": [
       "0.5263157894736842"
      ]
     },
     "execution_count": 144,
     "metadata": {},
     "output_type": "execute_result"
    }
   ],
   "source": [
    "np.mean(result['pred']==result['true'])"
   ]
  },
  {
   "cell_type": "code",
   "execution_count": 131,
   "metadata": {},
   "outputs": [],
   "source": [
    "pd.options.display.max_rows = 200"
   ]
  },
  {
   "cell_type": "code",
   "execution_count": 145,
   "metadata": {},
   "outputs": [
    {
     "name": "stdout",
     "output_type": "stream",
     "text": [
      "         filename true pred\n",
      "0    test_1_0.bmp    1    1\n",
      "0    test_1_1.bmp    1    1\n",
      "0   test_1_10.bmp    1    1\n",
      "0   test_1_11.bmp    1    1\n",
      "0   test_1_12.bmp    1    2\n",
      "0   test_1_13.bmp    1    4\n",
      "0   test_1_14.bmp    1    1\n",
      "0   test_1_15.bmp    1    1\n",
      "0   test_1_16.bmp    1    2\n",
      "0   test_1_17.bmp    1    1\n",
      "0   test_1_18.bmp    1    1\n",
      "0   test_1_19.bmp    1    1\n",
      "0    test_1_2.bmp    1    1\n",
      "0   test_1_20.bmp    1    4\n",
      "0   test_1_21.bmp    1    4\n",
      "0    test_1_3.bmp    1    2\n",
      "0    test_1_4.bmp    1    1\n",
      "0    test_1_5.bmp    1    1\n",
      "0    test_1_6.bmp    1    1\n",
      "0    test_1_7.bmp    1    1\n",
      "0    test_1_8.bmp    1    1\n",
      "0    test_1_9.bmp    1    1\n",
      "0   train_1_0.bmp    1    1\n",
      "0   train_1_1.jpg    1    1\n",
      "0  train_1_10.bmp    1    1\n",
      "0  train_1_11.bmp    1    1\n",
      "0  train_1_12.bmp    1    1\n",
      "0  train_1_13.bmp    1    1\n",
      "0  train_1_14.bmp    1    1\n",
      "0  train_1_15.bmp    1    1\n",
      "0  train_1_16.bmp    1    4\n",
      "0  train_1_17.bmp    1    1\n",
      "0  train_1_18.bmp    1    1\n",
      "0  train_1_19.bmp    1    6\n",
      "0   train_1_2.bmp    1    1\n",
      "0  train_1_20.bmp    1    1\n",
      "0  train_1_21.bmp    1    1\n",
      "0  train_1_22.bmp    1    1\n",
      "0  train_1_23.bmp    1    1\n",
      "0  train_1_24.bmp    1    1\n",
      "0  train_1_25.bmp    1    1\n",
      "0  train_1_26.bmp    1    1\n",
      "0  train_1_27.bmp    1    1\n",
      "0  train_1_28.bmp    1    1\n",
      "0  train_1_29.jpg    1    6\n",
      "0   train_1_3.bmp    1    1\n",
      "0   train_1_4.bmp    1    1\n",
      "0   train_1_5.bmp    1    1\n",
      "0   train_1_6.jpg    1    1\n",
      "0   train_1_7.bmp    1    1\n",
      "0   train_1_8.bmp    1    1\n",
      "0   train_1_9.bmp    1    1\n",
      "0    test_2_0.bmp    2    1\n",
      "0    test_2_1.bmp    2    1\n",
      "0   test_2_10.jpg    2    6\n",
      "0   test_2_11.jpg    2    4\n",
      "0   test_2_12.bmp    2    1\n",
      "0   test_2_13.bmp    2    1\n",
      "0   test_2_14.bmp    2    1\n",
      "0   test_2_15.bmp    2    1\n",
      "0    test_2_2.bmp    2    6\n",
      "0    test_2_3.bmp    2    1\n",
      "0    test_2_4.jpg    2    4\n",
      "0    test_2_5.bmp    2    1\n",
      "0    test_2_6.bmp    2    1\n",
      "0    test_2_7.bmp    2    1\n",
      "0    test_2_8.bmp    2    1\n",
      "0    test_2_9.jpg    2    4\n",
      "0   train_2_0.bmp    2    4\n",
      "0   train_2_1.bmp    2    2\n",
      "0  train_2_10.bmp    2    1\n",
      "0  train_2_11.jpg    2    4\n",
      "0  train_2_12.jpg    2    6\n",
      "0  train_2_13.jpg    2    4\n",
      "0  train_2_14.jpg    2    4\n",
      "0  train_2_15.jpg    2    4\n",
      "0  train_2_16.jpg    2    6\n",
      "0  train_2_17.jpg    2    4\n",
      "0  train_2_18.bmp    2    1\n",
      "0  train_2_19.bmp    2    1\n",
      "0   train_2_2.bmp    2    1\n",
      "0   train_2_3.bmp    2    1\n",
      "0   train_2_4.bmp    2    1\n",
      "0   train_2_5.bmp    2    1\n",
      "0   train_2_6.bmp    2    1\n",
      "0   train_2_7.bmp    2    2\n",
      "0   train_2_8.bmp    2    1\n",
      "0   train_2_9.bmp    2    1\n",
      "0    test_4_0.jpg    4    4\n",
      "0    test_4_1.jpg    4    4\n",
      "0    test_4_2.jpg    4    6\n",
      "0    test_4_3.jpg    4    4\n",
      "0    test_4_4.jpg    4    4\n",
      "0    test_4_5.bmp    4    4\n",
      "0    test_4_6.bmp    4    1\n"
     ]
    }
   ],
   "source": [
    "print(result)"
   ]
  },
  {
   "cell_type": "code",
   "execution_count": null,
   "metadata": {},
   "outputs": [],
   "source": []
  }
 ],
 "metadata": {
  "kernelspec": {
   "display_name": "Python 3",
   "language": "python",
   "name": "python3"
  },
  "language_info": {
   "codemirror_mode": {
    "name": "ipython",
    "version": 3
   },
   "file_extension": ".py",
   "mimetype": "text/x-python",
   "name": "python",
   "nbconvert_exporter": "python",
   "pygments_lexer": "ipython3",
   "version": "3.7.4"
  }
 },
 "nbformat": 4,
 "nbformat_minor": 2
}
